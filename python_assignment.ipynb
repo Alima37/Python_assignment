{
  "nbformat": 4,
  "nbformat_minor": 0,
  "metadata": {
    "colab": {
      "provenance": []
    },
    "kernelspec": {
      "name": "python3",
      "display_name": "Python 3"
    },
    "language_info": {
      "name": "python"
    }
  },
  "cells": [
    {
      "cell_type": "markdown",
      "source": [
        "#Python Basic Questions"
      ],
      "metadata": {
        "id": "jZlaFXwGIdpa"
      }
    },
    {
      "cell_type": "markdown",
      "source": [
        "1. What is Python, and why is it popular ?\n",
        "    - Python is a high-level, general-purpose programming language renowned for its simplicity, readability, and versatility. Created by Guido van Rossum and first released in 1991\n",
        "      \n",
        "      It is popular beacuse:-\n",
        "\n",
        "      - Ease of Learning and Use\n",
        "     - Versatility\n",
        "     - Extensive Libraries and Frameworks:\n",
        "     - Strong Community Suppor\n"
      ],
      "metadata": {
        "id": "0r9AD92p0Oq1"
      }
    },
    {
      "cell_type": "markdown",
      "source": [
        "2.  What is an interpreter in Python ?\n",
        "       - In Python, an interpreter is a program that reads and executes Python code line by line, converting it into machine code that the computer can understand and run.\n",
        "\n",
        "         This allows you to run Python programs without compiling them first, making it easier to test and debug code quickly.\n"
      ],
      "metadata": {
        "id": "rUcpWJ_wzsdT"
      }
    },
    {
      "cell_type": "markdown",
      "source": [
        "3. What are pre-defined keywords in Python ?\n",
        "    - Pre-defined keywords in Python are reserved words that have special meaning in the language and cannot be used for variable names, function names, or identifiers.\n",
        "\n",
        "     They are part of Python’s syntax and structure — for example:\n",
        "\n",
        "     if, else, while, for, def, class, return, import, try, except, True, False, None, and more.\n",
        "\n"
      ],
      "metadata": {
        "id": "z1gYI7J30GjP"
      }
    },
    {
      "cell_type": "markdown",
      "source": [
        "4. Can keywords be used as variable names ?\n",
        "      - No, keywords cannot be used as variable names in Python. They are reserved by the language for specific functions and structures, so using them as variable names will result in a syntax error.\n",
        "\n"
      ],
      "metadata": {
        "id": "w3kcRfTj3Wyz"
      }
    },
    {
      "cell_type": "markdown",
      "source": [
        "5.  What is mutability in Python ?\n",
        "     - Mutability in Python refers to whether an object’s value can be changed after it is created.\n",
        "\n",
        "      Mutable objects can be changed in place.\n",
        "      \n",
        "      Examples: list, dict, set\n",
        "\n",
        "      Immutable objects cannot be changed once created.\n",
        "\n",
        "      Examples: int, float, str, tuple\n"
      ],
      "metadata": {
        "id": "CvvOPQ-W3sZB"
      }
    },
    {
      "cell_type": "markdown",
      "source": [
        "6. Why are lists mutable, but tuples are immutable\n",
        "    - Lists are mutable and tuples are immutable in Python due to their design and intended use:\n",
        "\n",
        "      Lists (Mutable):-\n",
        "\n",
        "     Designed for change: You can add, remove, or modify elements.\n",
        "\n",
        "    - Use case: When the data is expected to change (e.g., collecting user inputs, temporary storage).\n",
        "\n",
        "    - Efficiency: Flexibility comes at the cost of performance in some cases.\n",
        "\n",
        "    Tuples (Immutable)\n",
        "\n",
        "    - Fixed structure: Once created, elements cannot be changed.\n",
        "\n",
        "    - Use case: When data must remain constant (e.g., coordinates, fixed configuration).\n",
        "\n",
        "    Benefits:\n",
        "\n",
        "     - More secure (can't be altered accidentally).\n",
        "\n",
        "      - Can be used as dictionary keys or elements of sets.\n",
        "\n",
        "      - Faster and use less memory than lists.\n"
      ],
      "metadata": {
        "id": "PtgWfn4w4mpc"
      }
    },
    {
      "cell_type": "markdown",
      "source": [
        "7. What is the difference between “==” and “is” operators in Python ?\n",
        "    - In Python, == and is are not the same — they compare different things:\n",
        "\n",
        "     -  == (Equality Operator)\n",
        "\n",
        "       Checks if values are equal.\n",
        "\n",
        "     Compares the contents of two objects.\n",
        "\n",
        "     a = [1, 2, 3]\n",
        "\n",
        "     b = [1, 2, 3]\n",
        "\n",
        "    print(a == b)  #  True – values are equal\n",
        "      -  is (Identity Operator)\n",
        "\n",
        "     Checks if two variables point to the same object in memory.\n",
        "\n",
        "     Compares object identity, not content.\n",
        "\n",
        "     print(a is b)  #  False – different objects in memory\n",
        "\n",
        "     Example:\n",
        "\n",
        "     x = [1, 2]\n",
        "\n",
        "     y = x\n",
        "\n",
        "     z = [1, 2]\n",
        "\n",
        "     print(x == z)  # True – same values\n",
        "\n",
        "     print(x is z)  # False – different objects\n",
        "\n",
        "     print(x is y)  # True – same object\n"
      ],
      "metadata": {
        "id": "b6tgqjZF46Nz"
      }
    },
    {
      "cell_type": "markdown",
      "source": [
        "8. What are logical operators in Python?\n",
        "    - Logical operators in Python are used to combine conditional statements (boolean expressions). They return True or False based on the logic applied.\n",
        "\n",
        "     Types of Logical Operators:\n",
        "\n",
        "     - and :-\tTrue if both conditions are true\tTrue and True\tTrue\n",
        "     - or\t:-True if at least one is true\tTrue or False\tTrue\n",
        "     - not\t:-Reverses the result\tnot True\tFalse\n",
        "\n",
        "      Example in code:\n",
        "\n",
        "      x = 5\n",
        "\n",
        "     print(x > 3 and x < 10)   # True\n",
        "\n",
        "     print(x < 3 or x > 1)     # True\n",
        "\n",
        "     print(not(x > 3))         # False\n"
      ],
      "metadata": {
        "id": "7nM-Cy_L5dQD"
      }
    },
    {
      "cell_type": "markdown",
      "source": [
        "9. What is type casting in Python ?\n",
        "   - Type casting in Python means converting one data type into another, such as from a string to an integer or a float to a string.\n",
        "\n",
        "     Common type casting functions:\n",
        "\n",
        "      - int() – converts to integer\n",
        "\n",
        "      - float() – converts to float\n",
        "\n",
        "      - str() – converts to string\n",
        "\n",
        "      - bool() – converts to boolean\n",
        "\n",
        "     Example:\n",
        "\n",
        "     x = \"10\"\n",
        "\n",
        "     y = int(x)       # Converts string to integer\n",
        "\n",
        "     z = float(x)     # Converts string to float\n",
        "\n",
        "     s = str(25)      # Converts number to string\n",
        "\n",
        "     b = bool(0)      # Converts to False\n"
      ],
      "metadata": {
        "id": "PQ5IPjJI6Qvs"
      }
    },
    {
      "cell_type": "markdown",
      "source": [
        "10. What is the difference between implicit and explicit type casting ?\n",
        "    - The difference between implicit and explicit type casting in Python lies in who performs the conversion — Python or the programmer:\n",
        "\n",
        "      - Implicit Type Casting:-\n",
        "       \n",
        "       Python does it automatically.\n",
        "\n",
        "       No data loss, usually safe.\n",
        "\n",
        "       x = 5        # int\n",
        "\n",
        "       y = 2.0      # float\n",
        "\n",
        "       z = x + y    # x is implicitly converted to float\n",
        "\n",
        "       print(z)     # 7.0\n",
        "\n",
        "      - Explicit Type Casting\n",
        "        \n",
        "        we do it manually using functions like int(), float(), str(), etc.\n",
        "\n",
        "        Needed when we want to force a conversion.\n",
        "\n",
        "        May result in data loss (e.g., converting float to int).\n",
        "\n",
        "        a = \"10\"\n",
        "\n",
        "        b = int(a)     # Explicitly cast string to int\n",
        "\n",
        "        print(b + 5)   # 15\n"
      ],
      "metadata": {
        "id": "oMXc3-K_6syf"
      }
    },
    {
      "cell_type": "markdown",
      "source": [
        "11. What is the purpose of conditional statements in Python ?\n",
        "     - The purpose of conditional statements in Python is to control the flow of a program by executing certain blocks of code only when specific conditions are met.\n",
        "\n",
        "     They allow your program to make decisions.\n",
        "\n",
        "     Main conditional statements:\n",
        "\n",
        "      - if – executes a block if a condition is true\n",
        "\n",
        "      - elif – checks another condition if the previous if was false\n",
        "\n",
        "      - else – runs if none of the above conditions are true\n",
        "\n",
        "      Example:\n",
        "\n",
        "       x = 10\n",
        "\n",
        "      if x > 0:\n",
        "\n",
        "     print(\"Positive number\")\n",
        "\n",
        "     elif x == 0:\n",
        "\n",
        "     print(\"Zero\")\n",
        "    \n",
        "     else:\n",
        "\n",
        "     print(\"Negative number\")\n"
      ],
      "metadata": {
        "id": "dQqQnw-V7lV4"
      }
    },
    {
      "cell_type": "markdown",
      "source": [
        "12. How does the elif statement work ?\n",
        "     - The elif (short for else if) statement in Python lets us check multiple conditions after an initial if statement.\n",
        "\n",
        "     Python checks the if condition first.\n",
        "\n",
        "     If if is False, it checks each elif in order.\n",
        "\n",
        "     The first elif that is True gets executed, and the rest are skipped.\n",
        "\n",
        "      If none are true, the else block (if present) runs.\n",
        "\n",
        "        Example:\n",
        "\n",
        "         x = 15\n",
        "\n",
        "         if x < 10:\n",
        "\n",
        "        print(\"Less than 10\")\n",
        "\n",
        "        elif x < 20:\n",
        "\n",
        "        print(\"Between 10 and 19\")  \n",
        "\n",
        "       elif x < 30:\n",
        "\n",
        "       print(\"Between 20 and 29\")\n",
        "       \n",
        "       else:\n",
        "    \n",
        "       print(\"30 or more\")\n",
        "\n",
        "       Here, x < 20 is true, so that block runs and the rest are ignored.\n"
      ],
      "metadata": {
        "id": "r_YW3XiQ8FAr"
      }
    },
    {
      "cell_type": "markdown",
      "source": [
        "13. What is the difference between for and while loops ?\n",
        "     - The main difference between for and while loops in Python is how and when they repeat code:\n",
        "\n",
        "       - for loop\n",
        "\n",
        "           Used when we know in advance how many times to loop.\n",
        "\n",
        "           Iterates over a sequence (like a list, range, or string).\n",
        "     \n",
        "           for i in range(5):\n",
        "\n",
        "           print(i)  # Prints 0 to 4\n",
        "\n",
        "      - while loop\n",
        "   \n",
        "        Used when we don’t know in advance how many times to loop.\n",
        "\n",
        "        Repeats as long as a condition is true.\n",
        "\n",
        "        i = 0\n",
        "\n",
        "        while i < 5:\n",
        "\n",
        "        print(i)\n",
        "    \n",
        "         i += 1\n"
      ],
      "metadata": {
        "id": "NUomxDiL8kjx"
      }
    },
    {
      "cell_type": "markdown",
      "source": [
        "14.  Describe a scenario where a while loop is more suitable than a for loop?\n",
        "     - A while loop is more suitable when we don’t know in advance how many times we need to loop — especially when looping depends on user input, external data, or a changing condition.\n",
        "\n",
        "      Example Scenario:\n",
        "\n",
        "      Keep asking a user for a password until it's correct:\n",
        "\n",
        "       correct_password = \"openai\"\n",
        "\n",
        "        user_input = \"\"\n",
        "\n",
        "       while user_input != correct_password:\n",
        "       \n",
        "       user_input = input(\"Enter password: \")\n",
        "\n",
        "       print(\"Access granted!\")\n",
        "\n",
        "      while is better here:\n",
        "\n",
        "      The number of attempts is unknown.\n",
        "\n",
        "      You loop until a specific condition is met.\n",
        "\n",
        "      A for loop would be inappropriate here because you can't predefine how many attempts the user will need.\n"
      ],
      "metadata": {
        "id": "tJzb5qGl9B2i"
      }
    },
    {
      "cell_type": "markdown",
      "source": [
        "#Practical Questions\n"
      ],
      "metadata": {
        "id": "tLCGEXj49eoA"
      }
    },
    {
      "cell_type": "markdown",
      "source": [
        "1. Write a Python program to print \"Hello, World!y\"?\n",
        "   "
      ],
      "metadata": {
        "id": "kJ-sqV5r9nLp"
      }
    },
    {
      "cell_type": "code",
      "source": [
        "print(\"Hello, World!\")\n"
      ],
      "metadata": {
        "colab": {
          "base_uri": "https://localhost:8080/"
        },
        "id": "dwLe1WRl-ABV",
        "outputId": "451572ad-8ca1-4e62-d109-577419a68750"
      },
      "execution_count": 1,
      "outputs": [
        {
          "output_type": "stream",
          "name": "stdout",
          "text": [
            "Hello, World!\n"
          ]
        }
      ]
    },
    {
      "cell_type": "markdown",
      "source": [
        "2. Write a Python program that displays your name and age.\n"
      ],
      "metadata": {
        "id": "pQ60lmfo-NZv"
      }
    },
    {
      "cell_type": "code",
      "source": [
        "name = \"Alima\"\n",
        "age = 25\n",
        "\n",
        "print(\"My name is\", name)\n",
        "print(\"I am\", age, \"years old\")"
      ],
      "metadata": {
        "colab": {
          "base_uri": "https://localhost:8080/"
        },
        "id": "MOzNWKJD-ZsQ",
        "outputId": "d236ec05-a147-452d-8965-3eff72dc7e69"
      },
      "execution_count": 2,
      "outputs": [
        {
          "output_type": "stream",
          "name": "stdout",
          "text": [
            "My name is Alima\n",
            "I am 25 years old\n"
          ]
        }
      ]
    },
    {
      "cell_type": "markdown",
      "source": [
        "3. Write code to print all the pre-defined keywords in Python using the keyword library.\n"
      ],
      "metadata": {
        "id": "iL8gUdNE-lth"
      }
    },
    {
      "cell_type": "code",
      "source": [
        "import keyword\n",
        "\n",
        "print(\"Python Keywords:\")\n",
        "print(keyword.kwlist)"
      ],
      "metadata": {
        "colab": {
          "base_uri": "https://localhost:8080/"
        },
        "id": "Q48_xp_S-0Zq",
        "outputId": "545ad2a0-5149-43a8-eaa3-fc290b91885c"
      },
      "execution_count": 3,
      "outputs": [
        {
          "output_type": "stream",
          "name": "stdout",
          "text": [
            "Python Keywords:\n",
            "['False', 'None', 'True', 'and', 'as', 'assert', 'async', 'await', 'break', 'class', 'continue', 'def', 'del', 'elif', 'else', 'except', 'finally', 'for', 'from', 'global', 'if', 'import', 'in', 'is', 'lambda', 'nonlocal', 'not', 'or', 'pass', 'raise', 'return', 'try', 'while', 'with', 'yield']\n"
          ]
        }
      ]
    },
    {
      "cell_type": "markdown",
      "source": [
        "4. Write a program that checks if a given word is a Python keyword.\n"
      ],
      "metadata": {
        "id": "D4rsyg8m-3Fh"
      }
    },
    {
      "cell_type": "code",
      "source": [
        "import keyword\n",
        "\n",
        "word = input(\"Enter a word: \")\n",
        "\n",
        "if keyword.iskeyword(word):\n",
        "    print(f\"'{word}' is a Python keyword.\")\n",
        "else:\n",
        "    print(f\"'{word}' is NOT a Python keyword.\")"
      ],
      "metadata": {
        "colab": {
          "base_uri": "https://localhost:8080/"
        },
        "id": "QRwzVTkp_PCI",
        "outputId": "9c41d55c-3d07-41f2-e92a-f24521ac3f3d"
      },
      "execution_count": 5,
      "outputs": [
        {
          "output_type": "stream",
          "name": "stdout",
          "text": [
            "Enter a word: if\n",
            "'if' is a Python keyword.\n"
          ]
        }
      ]
    },
    {
      "cell_type": "markdown",
      "source": [
        "5. Create a list and tuple in Python, and demonstrate how attempting to change an element works differently\n",
        "for each\n"
      ],
      "metadata": {
        "id": "dTJCDaQR_WD2"
      }
    },
    {
      "cell_type": "code",
      "source": [
        "my_list = [10, 20, 30]\n",
        "my_tuple = (10, 20, 30)\n",
        "\n",
        "my_list[1] = 99\n",
        "print(\"Modified list:\", my_list)\n",
        "\n",
        "try:\n",
        "    my_tuple[1] = 99\n",
        "except TypeError as e:\n",
        "    print(\"Error modifying tuple:\", e)"
      ],
      "metadata": {
        "colab": {
          "base_uri": "https://localhost:8080/"
        },
        "id": "gxTbLQ2w_v4z",
        "outputId": "0df95af2-8a10-4cef-8074-fb5bc1048bf5"
      },
      "execution_count": 6,
      "outputs": [
        {
          "output_type": "stream",
          "name": "stdout",
          "text": [
            "Modified list: [10, 99, 30]\n",
            "Error modifying tuple: 'tuple' object does not support item assignment\n"
          ]
        }
      ]
    },
    {
      "cell_type": "markdown",
      "source": [
        "6.  Write a function to demonstrate the behavior of mutable and immutable arguments.\n"
      ],
      "metadata": {
        "id": "Cds-2bRd_dtU"
      }
    },
    {
      "cell_type": "code",
      "source": [
        "def modify_args(a_number, a_list):\n",
        "    a_number += 10        # Try to modify an immutable (int)\n",
        "    a_list.append(100)    # Modify a mutable (list)\n",
        "\n",
        "    print(\"Inside function:\")\n",
        "    print(\"a_number =\", a_number)\n",
        "    print(\"a_list =\", a_list)\n",
        "\n",
        "# Original values\n",
        "num = 5\n",
        "my_list = [1, 2, 3]\n",
        "\n",
        "# Call the function\n",
        "modify_args(num, my_list)\n",
        "\n",
        "print(\"\\nOutside function:\")\n",
        "print(\"num =\", num)\n",
        "print(\"my_list =\", my_list)"
      ],
      "metadata": {
        "colab": {
          "base_uri": "https://localhost:8080/"
        },
        "id": "LQrozxi5AFCY",
        "outputId": "f635f055-0254-4a64-88d3-6687469c691b"
      },
      "execution_count": 7,
      "outputs": [
        {
          "output_type": "stream",
          "name": "stdout",
          "text": [
            "Inside function:\n",
            "a_number = 15\n",
            "a_list = [1, 2, 3, 100]\n",
            "\n",
            "Outside function:\n",
            "num = 5\n",
            "my_list = [1, 2, 3, 100]\n"
          ]
        }
      ]
    },
    {
      "cell_type": "markdown",
      "source": [
        "7.  Write a program that performs basic arithmetic operations on two user-input numbers.\n"
      ],
      "metadata": {
        "id": "kDn9vrN6ACYe"
      }
    },
    {
      "cell_type": "code",
      "source": [
        "num1 = float(input(\"Enter the first number: \"))\n",
        "num2 = float(input(\"Enter the second number: \"))\n",
        "\n",
        "print(\"Addition:\", num1 + num2)\n",
        "print(\"Subtraction:\", num1 - num2)\n",
        "print(\"Multiplication:\", num1 * num2)\n",
        "\n",
        "\n",
        "if num2 != 0:\n",
        "    print(\"Division:\", num1 / num2)\n",
        "else:\n",
        "    print(\"Division: Cannot divide by zero\")"
      ],
      "metadata": {
        "colab": {
          "base_uri": "https://localhost:8080/"
        },
        "id": "MyU2o6WuAZfV",
        "outputId": "49103f0c-9158-4007-d235-34b08f6f67bd"
      },
      "execution_count": 8,
      "outputs": [
        {
          "output_type": "stream",
          "name": "stdout",
          "text": [
            "Enter the first number: 5\n",
            "Enter the second number: 2\n",
            "Addition: 7.0\n",
            "Subtraction: 3.0\n",
            "Multiplication: 10.0\n",
            "Division: 2.5\n"
          ]
        }
      ]
    },
    {
      "cell_type": "markdown",
      "source": [
        "8. Write a program to demonstrate the use of logical operators.\n"
      ],
      "metadata": {
        "id": "10KD9M8rAjLh"
      }
    },
    {
      "cell_type": "code",
      "source": [
        "age = int(input(\"Enter your age: \"))\n",
        "has_ticket = input(\"Do you have a ticket? (yes/no): \").lower()\n",
        "\n",
        "# Logical AND\n",
        "if age >= 18 and has_ticket == \"yes\":\n",
        "    print(\"Access granted.\")\n",
        "else:\n",
        "    print(\"Access denied.\")\n",
        "\n",
        "# Logical OR\n",
        "if age >= 18 or has_ticket == \"yes\":\n",
        "    print(\"You meet at least one requirement.\")\n",
        "\n",
        "# Logical NOT\n",
        "if not (age < 18):\n",
        "    print(\"You are 18 or older.\")\n",
        "else:\n",
        "    print(\"You are underage.\")"
      ],
      "metadata": {
        "colab": {
          "base_uri": "https://localhost:8080/"
        },
        "id": "SwIZGGj9Aw0W",
        "outputId": "72e330ab-b988-4bdd-b526-64628e751f3e"
      },
      "execution_count": 9,
      "outputs": [
        {
          "output_type": "stream",
          "name": "stdout",
          "text": [
            "Enter your age: 25\n",
            "Do you have a ticket? (yes/no): yes\n",
            "Access granted.\n",
            "You meet at least one requirement.\n",
            "You are 18 or older.\n"
          ]
        }
      ]
    },
    {
      "cell_type": "markdown",
      "source": [
        "9. Write a Python program to convert user input from string to integer, float, and boolean types.\n"
      ],
      "metadata": {
        "id": "TYML0ah-A6fk"
      }
    },
    {
      "cell_type": "code",
      "source": [
        "user_input = input(\"Enter a value: \")\n",
        "\n",
        "# Convert to integer\n",
        "try:\n",
        "    int_value = int(user_input)\n",
        "    print(\"Integer:\", int_value)\n",
        "except ValueError:\n",
        "    print(\"Cannot convert to integer.\")\n",
        "\n",
        "# Convert to float\n",
        "try:\n",
        "    float_value = float(user_input)\n",
        "    print(\"Float:\", float_value)\n",
        "except ValueError:\n",
        "    print(\"Cannot convert to float.\")\n",
        "\n",
        "# Convert to boolean\n",
        "# Any non-empty string except \"false\"/\"0\"/\"no\" (case-insensitive) is considered True\n",
        "bool_value = user_input.strip().lower() not in [\"\", \"false\", \"0\", \"no\"]\n",
        "print(\"Boolean:\", bool_value)"
      ],
      "metadata": {
        "colab": {
          "base_uri": "https://localhost:8080/"
        },
        "id": "EFoXOvmVBHwW",
        "outputId": "e40bbd3e-875a-4d03-d70a-2fb071a73742"
      },
      "execution_count": 10,
      "outputs": [
        {
          "output_type": "stream",
          "name": "stdout",
          "text": [
            "Enter a value: 45\n",
            "Integer: 45\n",
            "Float: 45.0\n",
            "Boolean: True\n"
          ]
        }
      ]
    },
    {
      "cell_type": "markdown",
      "source": [
        "10. Write code to demonstrate type casting with list elements.\n"
      ],
      "metadata": {
        "id": "az589zYuBN1n"
      }
    },
    {
      "cell_type": "code",
      "source": [
        "str_list = [\"10\", \"20\", \"30\", \"0\", \"\"]\n",
        "\n",
        "# Convert to integers\n",
        "int_list = [int(x) for x in str_list if x.isdigit()]\n",
        "print(\"Integer list:\", int_list)\n",
        "\n",
        "# Convert to floats\n",
        "float_list = [float(x) for x in str_list if x.replace('.', '', 1).isdigit()]\n",
        "print(\"Float list:\", float_list)\n",
        "\n",
        "# Convert to booleans\n",
        "bool_list = [bool(x) for x in str_list]\n",
        "print(\"Boolean list:\", bool_list)"
      ],
      "metadata": {
        "colab": {
          "base_uri": "https://localhost:8080/"
        },
        "id": "hnU8clP7Be1X",
        "outputId": "24970d18-f14f-4667-8991-f252478d5df5"
      },
      "execution_count": 11,
      "outputs": [
        {
          "output_type": "stream",
          "name": "stdout",
          "text": [
            "Integer list: [10, 20, 30, 0]\n",
            "Float list: [10.0, 20.0, 30.0, 0.0]\n",
            "Boolean list: [True, True, True, True, False]\n"
          ]
        }
      ]
    },
    {
      "cell_type": "markdown",
      "source": [
        "11. . Write a program that checks if a number is positive, negative, or zero.\n"
      ],
      "metadata": {
        "id": "EzWgmyL2BZsw"
      }
    },
    {
      "cell_type": "code",
      "source": [
        "num = float(input(\"Enter a number: \"))\n",
        "\n",
        "if num > 0:\n",
        "    print(\"The number is positive.\")\n",
        "elif num < 0:\n",
        "    print(\"The number is negative.\")\n",
        "else:\n",
        "    print(\"The number is zero.\")"
      ],
      "metadata": {
        "colab": {
          "base_uri": "https://localhost:8080/"
        },
        "id": "jyc8SGFhBwzO",
        "outputId": "27cb3543-e785-41e4-f3b9-0864f382d390"
      },
      "execution_count": 12,
      "outputs": [
        {
          "output_type": "stream",
          "name": "stdout",
          "text": [
            "Enter a number: -5\n",
            "The number is negative.\n"
          ]
        }
      ]
    },
    {
      "cell_type": "markdown",
      "source": [
        "12.  Write a for loop to print numbers from 1 to 10.\n"
      ],
      "metadata": {
        "id": "CnUnXRefBzyW"
      }
    },
    {
      "cell_type": "code",
      "source": [
        "for i in range(1, 11):\n",
        "    print(i)\n",
        ""
      ],
      "metadata": {
        "colab": {
          "base_uri": "https://localhost:8080/"
        },
        "id": "xtPLfAtCCBsP",
        "outputId": "8d00196b-bd4b-4742-8873-11253e2eb6ab"
      },
      "execution_count": 13,
      "outputs": [
        {
          "output_type": "stream",
          "name": "stdout",
          "text": [
            "1\n",
            "2\n",
            "3\n",
            "4\n",
            "5\n",
            "6\n",
            "7\n",
            "8\n",
            "9\n",
            "10\n"
          ]
        }
      ]
    },
    {
      "cell_type": "markdown",
      "source": [
        "13.  Write a Python program to find the sum of all even numbers between 1 and 50."
      ],
      "metadata": {
        "id": "CR7GoB6tB_l3"
      }
    },
    {
      "cell_type": "code",
      "source": [
        "total = 0\n",
        "\n",
        "for i in range(2, 51, 2):\n",
        "    total += i\n",
        "\n",
        "print(\"Sum of even numbers from 1 to 50 is:\", total)"
      ],
      "metadata": {
        "colab": {
          "base_uri": "https://localhost:8080/"
        },
        "id": "ZaBlX9WUCR83",
        "outputId": "fcae96b4-316d-44de-df05-cfe53ed0962a"
      },
      "execution_count": 14,
      "outputs": [
        {
          "output_type": "stream",
          "name": "stdout",
          "text": [
            "Sum of even numbers from 1 to 50 is: 650\n"
          ]
        }
      ]
    },
    {
      "cell_type": "markdown",
      "source": [
        "14.  Write a program to reverse a string using a while loop.\n"
      ],
      "metadata": {
        "id": "szecSj3RCUgH"
      }
    },
    {
      "cell_type": "code",
      "source": [
        "text = input(\"Enter a string: \")\n",
        "\n",
        "rev = \"\"\n",
        "index = len(text) - 1\n",
        "\n",
        "while index >= 0:\n",
        "    rev += text[index]\n",
        "    index -= 1\n",
        "\n",
        "print(\"Reversed string:\", rev)"
      ],
      "metadata": {
        "colab": {
          "base_uri": "https://localhost:8080/"
        },
        "id": "SOYbOr2TCgR2",
        "outputId": "7526b9c7-a29a-40b2-ba65-3b4f71309792"
      },
      "execution_count": 1,
      "outputs": [
        {
          "output_type": "stream",
          "name": "stdout",
          "text": [
            "Enter a string: computer\n",
            "Reversed string: retupmoc\n"
          ]
        }
      ]
    },
    {
      "cell_type": "markdown",
      "source": [
        "15. Write a Python program to calculate the factorial of a number provided by the user using a while loop.\n"
      ],
      "metadata": {
        "id": "AZYf2MKfClO_"
      }
    },
    {
      "cell_type": "code",
      "source": [
        "num = int(input(\"Enter a non-negative integer: \"))\n",
        "\n",
        "if num < 0:\n",
        "    print(\"Factorial is not defined for negative numbers.\")\n",
        "else:\n",
        "    factorial = 1\n",
        "    i = 1\n",
        "\n",
        "    while i <= num:\n",
        "        factorial *= i\n",
        "        i += 1\n",
        "\n",
        "    print(f\"The factorial of {num} is: {factorial}\")"
      ],
      "metadata": {
        "colab": {
          "base_uri": "https://localhost:8080/"
        },
        "id": "6J5I64hiCxNR",
        "outputId": "3a22afd6-b14a-4205-e646-f8d4e60d4ca0"
      },
      "execution_count": 16,
      "outputs": [
        {
          "output_type": "stream",
          "name": "stdout",
          "text": [
            "Enter a non-negative integer: 5\n",
            "The factorial of 5 is: 120\n"
          ]
        }
      ]
    }
  ]
}